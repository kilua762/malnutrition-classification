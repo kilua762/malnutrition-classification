{
  "nbformat": 4,
  "nbformat_minor": 0,
  "metadata": {
    "colab": {
      "provenance": []
    },
    "kernelspec": {
      "name": "python3",
      "display_name": "Python 3"
    },
    "language_info": {
      "name": "python"
    }
  },
  "cells": [
    {
      "cell_type": "markdown",
      "source": [
        "# **AI Project Cycle**"
      ],
      "metadata": {
        "id": "LuHpQ9bKMtOw"
      }
    },
    {
      "cell_type": "markdown",
      "source": [
        "\n",
        "\n",
        "#**1.   Problem Scoping**\n",
        "\n",
        "---\n",
        "Menjelaskan mengenai latar belakang dari pembuatan AI Malnutrion Classfication\n",
        "\n",
        "\n"
      ],
      "metadata": {
        "id": "yyJReg6vUWwo"
      }
    },
    {
      "cell_type": "markdown",
      "source": [
        "\n",
        "\n",
        "#**2.   Data Acquisition**\n",
        "\n",
        "---\n",
        "Sumber data diperoleh melalui github `https://github.com/sstevenadi/StuntingDataAnalysis.git`\n",
        "\n",
        "\n"
      ],
      "metadata": {
        "id": "eIowoOPHU4zw"
      }
    },
    {
      "cell_type": "markdown",
      "source": [
        "\n",
        "\n",
        "#**3.   Data Exploration**\n",
        "\n",
        "---\n",
        "Tahapan ini masuk ke dalam tahapan preprocessing data\n"
      ],
      "metadata": {
        "id": "W2aOD6EkUB6x"
      }
    },
    {
      "cell_type": "code",
      "execution_count": 51,
      "metadata": {
        "id": "njbQ3-YnMAwo"
      },
      "outputs": [],
      "source": [
        "#Menampilkan Grafik\n",
        "import matplotlib.pyplot as plt\n",
        "import seaborn as sns\n",
        "\n",
        "#Data Transformation\n",
        "import pandas as pd\n",
        "import numpy as np\n",
        "\n",
        "#Membantu dalam pembuatan model dan mempersiapkan data\n",
        "from sklearn.preprocessing import LabelEncoder\n",
        "from sklearn.model_selection import train_test_split, GridSearchCV\n",
        "from sklearn.metrics import accuracy_score, confusion_matrix, classification_report, make_scorer\n",
        "\n",
        "#Model yang digunakan\n",
        "from sklearn.svm import SVC\n",
        "from sklearn.ensemble import RandomForestClassifier\n",
        "from sklearn.naive_bayes import MultinomialNB\n",
        "\n",
        "#Model Clustering\n",
        "from sklearn.cluster import KMeans\n",
        "\n",
        "#Magic line untuk matplotlib\n",
        "%matplotlib inline"
      ]
    },
    {
      "cell_type": "code",
      "source": [
        "#Membaca data\n",
        "url = ('https://raw.githubusercontent.com/kilua762/malnutrition-classification/main/Data/Stunting.xlsx')\n",
        "data_stunting = pd.read_excel(url)"
      ],
      "metadata": {
        "id": "D5qPWWVdXkX3"
      },
      "execution_count": 2,
      "outputs": []
    },
    {
      "cell_type": "code",
      "source": [
        "#Didalam data terdapat beberapa char non-ascii jadi di hilangkan dahulu\n",
        "data_stunting = data_stunting.applymap(lambda x : x.replace('\\xa0', '') if type(x) == str else x)\n",
        "\n",
        "data_stunting.sample(10)"
      ],
      "metadata": {
        "id": "RywOeBiHYJKx"
      },
      "execution_count": null,
      "outputs": []
    },
    {
      "cell_type": "code",
      "source": [
        "#Melihat info data\n",
        "data_stunting.info()"
      ],
      "metadata": {
        "id": "5pMy_n5wYPuS"
      },
      "execution_count": null,
      "outputs": []
    },
    {
      "cell_type": "code",
      "source": [
        "#Melihat data yang tidak ada nilainya atau null\n",
        "data_stunting.isna().sum()"
      ],
      "metadata": {
        "id": "8YBun6ycYRND"
      },
      "execution_count": null,
      "outputs": []
    },
    {
      "cell_type": "code",
      "source": [
        "# #Mengatasi data yang tidak ada nilainya\n",
        "# data_stunting.dropna()"
      ],
      "metadata": {
        "id": "86IB6NxaZnhk"
      },
      "execution_count": 6,
      "outputs": []
    },
    {
      "cell_type": "code",
      "source": [
        "#Melihat data presentase BB/U \n",
        "data_stunting['BB/U'].value_counts()/data_stunting.shape[0]*100"
      ],
      "metadata": {
        "id": "tFxwTtoTYUyR"
      },
      "execution_count": null,
      "outputs": []
    },
    {
      "cell_type": "code",
      "source": [
        "#Melihat data presentase TB/U \n",
        "data_stunting['TB/U'].value_counts()/data_stunting.shape[0]*100"
      ],
      "metadata": {
        "id": "1dyvoHvXauxc"
      },
      "execution_count": null,
      "outputs": []
    },
    {
      "cell_type": "code",
      "source": [
        "#Melihat data presentase BB/TB\n",
        "data_stunting['BB/TB'].value_counts()/data_stunting.shape[0]*100"
      ],
      "metadata": {
        "id": "pUt1gP6wa0H4"
      },
      "execution_count": null,
      "outputs": []
    },
    {
      "cell_type": "code",
      "source": [
        "#Untuk mengubah data kategorical menjadi angka\n",
        "le = LabelEncoder()\n",
        "\n",
        "data_stunting['BB/U'] = le.fit_transform(data_stunting['BB/U']) #Kurang , Berat Badan Normal\n",
        "data_stunting['TB/U'] = le.fit_transform(data_stunting['TB/U']) #Sangat Pendek, Pendek\n",
        "data_stunting['BB/TB'] = le.fit_transform(data_stunting['BB/TB']) #Gizi Baik, Risiko Gizi Lebih\n",
        "\n",
        "data_stunting.head()"
      ],
      "metadata": {
        "id": "crCtlzNpa4U6"
      },
      "execution_count": null,
      "outputs": []
    },
    {
      "cell_type": "code",
      "source": [
        "#Mengubah value 0 pada BB Lahir menjadi median\n",
        "data_stunting['BB Lahir'] = pd.to_numeric(data_stunting['BB Lahir'])\n",
        "data_stunting['BB Lahir'] = data_stunting['BB Lahir'].apply(lambda x : data_stunting['BB Lahir'].median() if x <= 0 else x)\n",
        "\n",
        "data_stunting.head()"
      ],
      "metadata": {
        "id": "wfwjJ9XjbE1z"
      },
      "execution_count": null,
      "outputs": []
    },
    {
      "cell_type": "code",
      "source": [
        "#Mengubah value 0 pada TB Lahir menjadi median\n",
        "data_stunting['TB Lahir'] = pd.to_numeric(data_stunting['TB Lahir'])\n",
        "data_stunting['TB Lahir'] = data_stunting['TB Lahir'].apply(lambda x : data_stunting['TB Lahir'].median() if x <= 0 else x)\n",
        "data_stunting['TB Lahir'].fillna(data_stunting['TB Lahir'].median(), inplace=True)\n",
        "\n",
        "data_stunting.head()"
      ],
      "metadata": {
        "id": "8HaDVGPmbEvi"
      },
      "execution_count": null,
      "outputs": []
    },
    {
      "cell_type": "code",
      "source": [
        "#Mengubah value usia menjadi sebuah angka\n",
        "data_stunting['Usia Saat Ukur'] = data_stunting['Usia Saat Ukur'].apply(lambda x : float(x[0]))\n",
        "\n",
        "data_stunting.head()"
      ],
      "metadata": {
        "id": "FI4b01X1bJ6r"
      },
      "execution_count": null,
      "outputs": []
    },
    {
      "cell_type": "code",
      "source": [
        "#Memilih kolom yang mempengaruhi data\n",
        "data_stunting = data_stunting[['BB Lahir', 'TB Lahir', 'Usia Saat Ukur', 'Berat', 'Tinggi', \"BB/U\", \"TB/U\", \"BB/TB\"]]\n",
        "\n",
        "data_stunting.head()"
      ],
      "metadata": {
        "id": "E55r5_4_bMbK"
      },
      "execution_count": null,
      "outputs": []
    },
    {
      "cell_type": "markdown",
      "source": [
        "#**4.   Cluster Data dengan K-Means**\n",
        "\n",
        "---\n"
      ],
      "metadata": {
        "id": "vSEbWW8icYai"
      }
    },
    {
      "cell_type": "code",
      "source": [
        "#perhitungan cluster dengan k-means dan visualisasi dengan metode ELBOW\n",
        "X_means = data_stunting.iloc[: ,[3, 4]].values\n",
        "\n",
        "wcss = []\n",
        "for i in range (1,11) :\n",
        "  kmeans = KMeans(n_clusters= i, init = 'k-means++', random_state = 42)\n",
        "  kmeans.fit(X_means)\n",
        "  wcss.append(kmeans.inertia_)\n",
        "plt.plot(range(1, 11), wcss)\n",
        "plt.title('Metode Elbow')\n",
        "plt.xlabel('Jumlah Cluster')\n",
        "plt.ylabel('wcss')\n",
        "plt.show()"
      ],
      "metadata": {
        "id": "SDpY2DACcl6D"
      },
      "execution_count": null,
      "outputs": []
    },
    {
      "cell_type": "code",
      "source": [
        "#Melihat Hasil Cluster dengan membaginya menjadi 3 Cluster\n",
        "kmeans = KMeans(n_clusters=3, init = 'k-means++', random_state=42)\n",
        "Y_kmeans = kmeans.fit_predict(X_means)\n",
        "\n",
        "plt.scatter(X_means[Y_kmeans == 0, 0], X_means[Y_kmeans == 0, 1], s = 10, c = 'red',  label = 'Cluster 1')\n",
        "plt.scatter(X_means[Y_kmeans == 1, 0], X_means[Y_kmeans == 1, 1], s = 10, c = 'blue', label = 'Cluster 2')\n",
        "plt.scatter(X_means[Y_kmeans == 2, 0], X_means[Y_kmeans == 2, 1], s = 10, c = 'green', label = 'Cluster 3')\n",
        "plt.scatter(kmeans.cluster_centers_[:, 0], kmeans.cluster_centers_[:, 1], s = 300, c ='yellow', label = 'Centroid')\n",
        "\n",
        "plt.title('Cluster Data Stunting')\n",
        "plt.xlabel('Berat Badan')\n",
        "plt.ylabel('Tiggi Badan')\n",
        "plt.legend()\n",
        "plt.show()"
      ],
      "metadata": {
        "colab": {
          "base_uri": "https://localhost:8080/",
          "height": 527
        },
        "id": "H9phI2V9fB-M",
        "outputId": "c330c999-de28-4c76-b3dd-390bc451d7da"
      },
      "execution_count": 33,
      "outputs": [
        {
          "output_type": "stream",
          "name": "stderr",
          "text": [
            "/usr/local/lib/python3.10/dist-packages/sklearn/cluster/_kmeans.py:870: FutureWarning: The default value of `n_init` will change from 10 to 'auto' in 1.4. Set the value of `n_init` explicitly to suppress the warning\n",
            "  warnings.warn(\n"
          ]
        },
        {
          "output_type": "display_data",
          "data": {
            "text/plain": [
              "<Figure size 640x480 with 1 Axes>"
            ],
            "image/png": "[encoded data removed]"
          },
          "metadata": {}
        }
      ]
    },
    {
      "cell_type": "code",
      "source": [
        "#prediksi dengan membagi 3 Cluster\n",
        "Y_predicted = KMeans(n_clusters = 3).fit_predict(data_stunting[['Berat','Tinggi']])"
      ],
      "metadata": {
        "colab": {
          "base_uri": "https://localhost:8080/"
        },
        "id": "zJE11Ph0igPH",
        "outputId": "cd488674-03c5-4dd1-f95a-8c5d411425ff"
      },
      "execution_count": 17,
      "outputs": [
        {
          "output_type": "stream",
          "name": "stderr",
          "text": [
            "/usr/local/lib/python3.10/dist-packages/sklearn/cluster/_kmeans.py:870: FutureWarning: The default value of `n_init` will change from 10 to 'auto' in 1.4. Set the value of `n_init` explicitly to suppress the warning\n",
            "  warnings.warn(\n"
          ]
        }
      ]
    },
    {
      "cell_type": "code",
      "source": [
        "data_stunting['Cluster'] = Y_predicted\n",
        "data_stunting.sample(10)"
      ],
      "metadata": {
        "colab": {
          "base_uri": "https://localhost:8080/",
          "height": 363
        },
        "id": "4nvBSyMTkBv-",
        "outputId": "918de99e-cf87-433d-d236-ba5f657726fd"
      },
      "execution_count": 86,
      "outputs": [
        {
          "output_type": "execute_result",
          "data": {
            "text/plain": [
              "     BB Lahir  TB Lahir  Usia Saat Ukur  Berat  Tinggi  BB/U  TB/U  BB/TB  \\\n",
              "43        2.9      47.0             4.0   11.1    93.6     2     0      1   \n",
              "9         3.0      47.0             3.0   12.0    90.1     0     0      0   \n",
              "159       2.6      46.0             2.0    9.7    79.8     1     1      0   \n",
              "150       3.0      47.0             3.0   13.4    94.0     0     0      0   \n",
              "243       2.8      48.0             1.0    9.0    73.5     0     1      0   \n",
              "32        2.9      47.0             2.0    9.0    79.3     1     0      0   \n",
              "196       3.0      49.0             3.0   11.6    89.7     0     0      0   \n",
              "208       2.7      47.0             4.0   13.4    95.0     1     0      0   \n",
              "298       2.8      49.0             1.0    7.7    77.5     2     0      1   \n",
              "106       2.5      47.0             3.0   11.3    90.9     1     0      0   \n",
              "\n",
              "     Cluster  \n",
              "43         2  \n",
              "9          2  \n",
              "159        0  \n",
              "150        2  \n",
              "243        1  \n",
              "32         0  \n",
              "196        2  \n",
              "208        2  \n",
              "298        0  \n",
              "106        2  "
            ],
            "text/html": [
              "\n",
              "  <div id=\"df-99a23397-7b0a-4aac-a1c8-cb76ece56a52\">\n",
              "    <div class=\"colab-df-container\">\n",
              "      <div>\n",
              "<style scoped>\n",
              "    .dataframe tbody tr th:only-of-type {\n",
              "        vertical-align: middle;\n",
              "    }\n",
              "\n",
              "    .dataframe tbody tr th {\n",
              "        vertical-align: top;\n",
              "    }\n",
              "\n",
              "    .dataframe thead th {\n",
              "        text-align: right;\n",
              "    }\n",
              "</style>\n",
              "<table border=\"1\" class=\"dataframe\">\n",
              "  <thead>\n",
              "    <tr style=\"text-align: right;\">\n",
              "      <th></th>\n",
              "      <th>BB Lahir</th>\n",
              "      <th>TB Lahir</th>\n",
              "      <th>Usia Saat Ukur</th>\n",
              "      <th>Berat</th>\n",
              "      <th>Tinggi</th>\n",
              "      <th>BB/U</th>\n",
              "      <th>TB/U</th>\n",
              "      <th>BB/TB</th>\n",
              "      <th>Cluster</th>\n",
              "    </tr>\n",
              "  </thead>\n",
              "  <tbody>\n",
              "    <tr>\n",
              "      <th>43</th>\n",
              "      <td>2.9</td>\n",
              "      <td>47.0</td>\n",
              "      <td>4.0</td>\n",
              "      <td>11.1</td>\n",
              "      <td>93.6</td>\n",
              "      <td>2</td>\n",
              "      <td>0</td>\n",
              "      <td>1</td>\n",
              "      <td>2</td>\n",
              "    </tr>\n",
              "    <tr>\n",
              "      <th>9</th>\n",
              "      <td>3.0</td>\n",
              "      <td>47.0</td>\n",
              "      <td>3.0</td>\n",
              "      <td>12.0</td>\n",
              "      <td>90.1</td>\n",
              "      <td>0</td>\n",
              "      <td>0</td>\n",
              "      <td>0</td>\n",
              "      <td>2</td>\n",
              "    </tr>\n",
              "    <tr>\n",
              "      <th>159</th>\n",
              "      <td>2.6</td>\n",
              "      <td>46.0</td>\n",
              "      <td>2.0</td>\n",
              "      <td>9.7</td>\n",
              "      <td>79.8</td>\n",
              "      <td>1</td>\n",
              "      <td>1</td>\n",
              "      <td>0</td>\n",
              "      <td>0</td>\n",
              "    </tr>\n",
              "    <tr>\n",
              "      <th>150</th>\n",
              "      <td>3.0</td>\n",
              "      <td>47.0</td>\n",
              "      <td>3.0</td>\n",
              "      <td>13.4</td>\n",
              "      <td>94.0</td>\n",
              "      <td>0</td>\n",
              "      <td>0</td>\n",
              "      <td>0</td>\n",
              "      <td>2</td>\n",
              "    </tr>\n",
              "    <tr>\n",
              "      <th>243</th>\n",
              "      <td>2.8</td>\n",
              "      <td>48.0</td>\n",
              "      <td>1.0</td>\n",
              "      <td>9.0</td>\n",
              "      <td>73.5</td>\n",
              "      <td>0</td>\n",
              "      <td>1</td>\n",
              "      <td>0</td>\n",
              "      <td>1</td>\n",
              "    </tr>\n",
              "    <tr>\n",
              "      <th>32</th>\n",
              "      <td>2.9</td>\n",
              "      <td>47.0</td>\n",
              "      <td>2.0</td>\n",
              "      <td>9.0</td>\n",
              "      <td>79.3</td>\n",
              "      <td>1</td>\n",
              "      <td>0</td>\n",
              "      <td>0</td>\n",
              "      <td>0</td>\n",
              "    </tr>\n",
              "    <tr>\n",
              "      <th>196</th>\n",
              "      <td>3.0</td>\n",
              "      <td>49.0</td>\n",
              "      <td>3.0</td>\n",
              "      <td>11.6</td>\n",
              "      <td>89.7</td>\n",
              "      <td>0</td>\n",
              "      <td>0</td>\n",
              "      <td>0</td>\n",
              "      <td>2</td>\n",
              "    </tr>\n",
              "    <tr>\n",
              "      <th>208</th>\n",
              "      <td>2.7</td>\n",
              "      <td>47.0</td>\n",
              "      <td>4.0</td>\n",
              "      <td>13.4</td>\n",
              "      <td>95.0</td>\n",
              "      <td>1</td>\n",
              "      <td>0</td>\n",
              "      <td>0</td>\n",
              "      <td>2</td>\n",
              "    </tr>\n",
              "    <tr>\n",
              "      <th>298</th>\n",
              "      <td>2.8</td>\n",
              "      <td>49.0</td>\n",
              "      <td>1.0</td>\n",
              "      <td>7.7</td>\n",
              "      <td>77.5</td>\n",
              "      <td>2</td>\n",
              "      <td>0</td>\n",
              "      <td>1</td>\n",
              "      <td>0</td>\n",
              "    </tr>\n",
              "    <tr>\n",
              "      <th>106</th>\n",
              "      <td>2.5</td>\n",
              "      <td>47.0</td>\n",
              "      <td>3.0</td>\n",
              "      <td>11.3</td>\n",
              "      <td>90.9</td>\n",
              "      <td>1</td>\n",
              "      <td>0</td>\n",
              "      <td>0</td>\n",
              "      <td>2</td>\n",
              "    </tr>\n",
              "  </tbody>\n",
              "</table>\n",
              "</div>\n",
              "      <button class=\"colab-df-convert\" onclick=\"convertToInteractive('df-99a23397-7b0a-4aac-a1c8-cb76ece56a52')\"\n",
              "              title=\"Convert this dataframe to an interactive table.\"\n",
              "              style=\"display:none;\">\n",
              "        \n",
              "  <svg xmlns=\"http://www.w3.org/2000/svg\" height=\"24px\"viewBox=\"0 0 24 24\"\n",
              "       width=\"24px\">\n",
              "    <path d=\"M0 0h24v24H0V0z\" fill=\"none\"/>\n",
              "    <path d=\"M18.56 5.44l.94 2.06.94-2.06 2.06-.94-2.06-.94-.94-2.06-.94 2.06-2.06.94zm-11 1L8.5 8.5l.94-2.06 2.06-.94-2.06-.94L8.5 2.5l-.94 2.06-2.06.94zm10 10l.94 2.06.94-2.06 2.06-.94-2.06-.94-.94-2.06-.94 2.06-2.06.94z\"/><path d=\"M17.41 7.96l-1.37-1.37c-.4-.4-.92-.59-1.43-.59-.52 0-1.04.2-1.43.59L10.3 9.45l-7.72 7.72c-.78.78-.78 2.05 0 2.83L4 21.41c.39.39.9.59 1.41.59.51 0 1.02-.2 1.41-.59l7.78-7.78 2.81-2.81c.8-.78.8-2.07 0-2.86zM5.41 20L4 18.59l7.72-7.72 1.47 1.35L5.41 20z\"/>\n",
              "  </svg>\n",
              "      </button>\n",
              "      \n",
              "  <style>\n",
              "    .colab-df-container {\n",
              "      display:flex;\n",
              "      flex-wrap:wrap;\n",
              "      gap: 12px;\n",
              "    }\n",
              "\n",
              "    .colab-df-convert {\n",
              "      background-color: #E8F0FE;\n",
              "      border: none;\n",
              "      border-radius: 50%;\n",
              "      cursor: pointer;\n",
              "      display: none;\n",
              "      fill: #1967D2;\n",
              "      height: 32px;\n",
              "      padding: 0 0 0 0;\n",
              "      width: 32px;\n",
              "    }\n",
              "\n",
              "    .colab-df-convert:hover {\n",
              "      background-color: #E2EBFA;\n",
              "      box-shadow: 0px 1px 2px rgba(60, 64, 67, 0.3), 0px 1px 3px 1px rgba(60, 64, 67, 0.15);\n",
              "      fill: #174EA6;\n",
              "    }\n",
              "\n",
              "    [theme=dark] .colab-df-convert {\n",
              "      background-color: #3B4455;\n",
              "      fill: #D2E3FC;\n",
              "    }\n",
              "\n",
              "    [theme=dark] .colab-df-convert:hover {\n",
              "      background-color: #434B5C;\n",
              "      box-shadow: 0px 1px 3px 1px rgba(0, 0, 0, 0.15);\n",
              "      filter: drop-shadow(0px 1px 2px rgba(0, 0, 0, 0.3));\n",
              "      fill: #FFFFFF;\n",
              "    }\n",
              "  </style>\n",
              "\n",
              "      <script>\n",
              "        const buttonEl =\n",
              "          document.querySelector('#df-99a23397-7b0a-4aac-a1c8-cb76ece56a52 button.colab-df-convert');\n",
              "        buttonEl.style.display =\n",
              "          google.colab.kernel.accessAllowed ? 'block' : 'none';\n",
              "\n",
              "        async function convertToInteractive(key) {\n",
              "          const element = document.querySelector('#df-99a23397-7b0a-4aac-a1c8-cb76ece56a52');\n",
              "          const dataTable =\n",
              "            await google.colab.kernel.invokeFunction('convertToInteractive',\n",
              "                                                     [key], {});\n",
              "          if (!dataTable) return;\n",
              "\n",
              "          const docLinkHtml = 'Like what you see? Visit the ' +\n",
              "            '<a target=\"_blank\" href=https://colab.research.google.com/notebooks/data_table.ipynb>data table notebook</a>'\n",
              "            + ' to learn more about interactive tables.';\n",
              "          element.innerHTML = '';\n",
              "          dataTable['output_type'] = 'display_data';\n",
              "          await google.colab.output.renderOutput(dataTable, element);\n",
              "          const docLink = document.createElement('div');\n",
              "          docLink.innerHTML = docLinkHtml;\n",
              "          element.appendChild(docLink);\n",
              "        }\n",
              "      </script>\n",
              "    </div>\n",
              "  </div>\n",
              "  "
            ]
          },
          "metadata": {},
          "execution_count": 86
        }
      ]
    },
    {
      "cell_type": "code",
      "source": [
        "#Export File to .csv\n",
        "data_stunting.to_csv(\"StuntingCluster.csv\")"
      ],
      "metadata": {
        "id": "C18i-HCwkypg"
      },
      "execution_count": 26,
      "outputs": []
    },
    {
      "cell_type": "markdown",
      "source": [
        "#**5.   Modeling**\n",
        "\n",
        "---\n"
      ],
      "metadata": {
        "id": "Cm73ynOSgaF_"
      }
    },
    {
      "cell_type": "code",
      "source": [
        "# Membaca data\n",
        "df = pd.read_csv('StuntingCluster.csv')\n",
        "# Menghapus kolom Unnamed\n",
        "df = df.loc[:, ~df.columns.str.contains('^Unnamed')]\n",
        "# show data sebanyak 5\n",
        "df.head(5)"
      ],
      "metadata": {
        "colab": {
          "base_uri": "https://localhost:8080/",
          "height": 206
        },
        "id": "Jgyd57ZIlFNW",
        "outputId": "f96044c5-a5ac-421a-c9e4-6b925905ef2f"
      },
      "execution_count": 30,
      "outputs": [
        {
          "output_type": "execute_result",
          "data": {
            "text/plain": [
              "   BB Lahir  TB Lahir  Usia Saat Ukur  Berat  Tinggi  BB/U  TB/U  BB/TB  \\\n",
              "0       2.9      48.0             4.0   11.2    89.0     1     1      0   \n",
              "1       2.8      47.0             4.0   14.2    89.8     0     1      3   \n",
              "2       2.8      47.0             3.0   11.4    90.6     1     0      0   \n",
              "3       2.8      47.0             4.0   12.3    97.8     1     0      0   \n",
              "4       2.8      47.0             3.0   12.1    90.8     0     0      0   \n",
              "\n",
              "   Cluster  \n",
              "0        2  \n",
              "1        2  \n",
              "2        2  \n",
              "3        2  \n",
              "4        2  "
            ],
            "text/html": [
              "\n",
              "  <div id=\"df-5076de78-3a32-435c-b28b-b0ec8ee0da8d\">\n",
              "    <div class=\"colab-df-container\">\n",
              "      <div>\n",
              "<style scoped>\n",
              "    .dataframe tbody tr th:only-of-type {\n",
              "        vertical-align: middle;\n",
              "    }\n",
              "\n",
              "    .dataframe tbody tr th {\n",
              "        vertical-align: top;\n",
              "    }\n",
              "\n",
              "    .dataframe thead th {\n",
              "        text-align: right;\n",
              "    }\n",
              "</style>\n",
              "<table border=\"1\" class=\"dataframe\">\n",
              "  <thead>\n",
              "    <tr style=\"text-align: right;\">\n",
              "      <th></th>\n",
              "      <th>BB Lahir</th>\n",
              "      <th>TB Lahir</th>\n",
              "      <th>Usia Saat Ukur</th>\n",
              "      <th>Berat</th>\n",
              "      <th>Tinggi</th>\n",
              "      <th>BB/U</th>\n",
              "      <th>TB/U</th>\n",
              "      <th>BB/TB</th>\n",
              "      <th>Cluster</th>\n",
              "    </tr>\n",
              "  </thead>\n",
              "  <tbody>\n",
              "    <tr>\n",
              "      <th>0</th>\n",
              "      <td>2.9</td>\n",
              "      <td>48.0</td>\n",
              "      <td>4.0</td>\n",
              "      <td>11.2</td>\n",
              "      <td>89.0</td>\n",
              "      <td>1</td>\n",
              "      <td>1</td>\n",
              "      <td>0</td>\n",
              "      <td>2</td>\n",
              "    </tr>\n",
              "    <tr>\n",
              "      <th>1</th>\n",
              "      <td>2.8</td>\n",
              "      <td>47.0</td>\n",
              "      <td>4.0</td>\n",
              "      <td>14.2</td>\n",
              "      <td>89.8</td>\n",
              "      <td>0</td>\n",
              "      <td>1</td>\n",
              "      <td>3</td>\n",
              "      <td>2</td>\n",
              "    </tr>\n",
              "    <tr>\n",
              "      <th>2</th>\n",
              "      <td>2.8</td>\n",
              "      <td>47.0</td>\n",
              "      <td>3.0</td>\n",
              "      <td>11.4</td>\n",
              "      <td>90.6</td>\n",
              "      <td>1</td>\n",
              "      <td>0</td>\n",
              "      <td>0</td>\n",
              "      <td>2</td>\n",
              "    </tr>\n",
              "    <tr>\n",
              "      <th>3</th>\n",
              "      <td>2.8</td>\n",
              "      <td>47.0</td>\n",
              "      <td>4.0</td>\n",
              "      <td>12.3</td>\n",
              "      <td>97.8</td>\n",
              "      <td>1</td>\n",
              "      <td>0</td>\n",
              "      <td>0</td>\n",
              "      <td>2</td>\n",
              "    </tr>\n",
              "    <tr>\n",
              "      <th>4</th>\n",
              "      <td>2.8</td>\n",
              "      <td>47.0</td>\n",
              "      <td>3.0</td>\n",
              "      <td>12.1</td>\n",
              "      <td>90.8</td>\n",
              "      <td>0</td>\n",
              "      <td>0</td>\n",
              "      <td>0</td>\n",
              "      <td>2</td>\n",
              "    </tr>\n",
              "  </tbody>\n",
              "</table>\n",
              "</div>\n",
              "      <button class=\"colab-df-convert\" onclick=\"convertToInteractive('df-5076de78-3a32-435c-b28b-b0ec8ee0da8d')\"\n",
              "              title=\"Convert this dataframe to an interactive table.\"\n",
              "              style=\"display:none;\">\n",
              "        \n",
              "  <svg xmlns=\"http://www.w3.org/2000/svg\" height=\"24px\"viewBox=\"0 0 24 24\"\n",
              "       width=\"24px\">\n",
              "    <path d=\"M0 0h24v24H0V0z\" fill=\"none\"/>\n",
              "    <path d=\"M18.56 5.44l.94 2.06.94-2.06 2.06-.94-2.06-.94-.94-2.06-.94 2.06-2.06.94zm-11 1L8.5 8.5l.94-2.06 2.06-.94-2.06-.94L8.5 2.5l-.94 2.06-2.06.94zm10 10l.94 2.06.94-2.06 2.06-.94-2.06-.94-.94-2.06-.94 2.06-2.06.94z\"/><path d=\"M17.41 7.96l-1.37-1.37c-.4-.4-.92-.59-1.43-.59-.52 0-1.04.2-1.43.59L10.3 9.45l-7.72 7.72c-.78.78-.78 2.05 0 2.83L4 21.41c.39.39.9.59 1.41.59.51 0 1.02-.2 1.41-.59l7.78-7.78 2.81-2.81c.8-.78.8-2.07 0-2.86zM5.41 20L4 18.59l7.72-7.72 1.47 1.35L5.41 20z\"/>\n",
              "  </svg>\n",
              "      </button>\n",
              "      \n",
              "  <style>\n",
              "    .colab-df-container {\n",
              "      display:flex;\n",
              "      flex-wrap:wrap;\n",
              "      gap: 12px;\n",
              "    }\n",
              "\n",
              "    .colab-df-convert {\n",
              "      background-color: #E8F0FE;\n",
              "      border: none;\n",
              "      border-radius: 50%;\n",
              "      cursor: pointer;\n",
              "      display: none;\n",
              "      fill: #1967D2;\n",
              "      height: 32px;\n",
              "      padding: 0 0 0 0;\n",
              "      width: 32px;\n",
              "    }\n",
              "\n",
              "    .colab-df-convert:hover {\n",
              "      background-color: #E2EBFA;\n",
              "      box-shadow: 0px 1px 2px rgba(60, 64, 67, 0.3), 0px 1px 3px 1px rgba(60, 64, 67, 0.15);\n",
              "      fill: #174EA6;\n",
              "    }\n",
              "\n",
              "    [theme=dark] .colab-df-convert {\n",
              "      background-color: #3B4455;\n",
              "      fill: #D2E3FC;\n",
              "    }\n",
              "\n",
              "    [theme=dark] .colab-df-convert:hover {\n",
              "      background-color: #434B5C;\n",
              "      box-shadow: 0px 1px 3px 1px rgba(0, 0, 0, 0.15);\n",
              "      filter: drop-shadow(0px 1px 2px rgba(0, 0, 0, 0.3));\n",
              "      fill: #FFFFFF;\n",
              "    }\n",
              "  </style>\n",
              "\n",
              "      <script>\n",
              "        const buttonEl =\n",
              "          document.querySelector('#df-5076de78-3a32-435c-b28b-b0ec8ee0da8d button.colab-df-convert');\n",
              "        buttonEl.style.display =\n",
              "          google.colab.kernel.accessAllowed ? 'block' : 'none';\n",
              "\n",
              "        async function convertToInteractive(key) {\n",
              "          const element = document.querySelector('#df-5076de78-3a32-435c-b28b-b0ec8ee0da8d');\n",
              "          const dataTable =\n",
              "            await google.colab.kernel.invokeFunction('convertToInteractive',\n",
              "                                                     [key], {});\n",
              "          if (!dataTable) return;\n",
              "\n",
              "          const docLinkHtml = 'Like what you see? Visit the ' +\n",
              "            '<a target=\"_blank\" href=https://colab.research.google.com/notebooks/data_table.ipynb>data table notebook</a>'\n",
              "            + ' to learn more about interactive tables.';\n",
              "          element.innerHTML = '';\n",
              "          dataTable['output_type'] = 'display_data';\n",
              "          await google.colab.output.renderOutput(dataTable, element);\n",
              "          const docLink = document.createElement('div');\n",
              "          docLink.innerHTML = docLinkHtml;\n",
              "          element.appendChild(docLink);\n",
              "        }\n",
              "      </script>\n",
              "    </div>\n",
              "  </div>\n",
              "  "
            ]
          },
          "metadata": {},
          "execution_count": 30
        }
      ]
    },
    {
      "cell_type": "code",
      "source": [
        "# Melihat persentase cluster\n",
        "df['Cluster'].value_counts()/df.shape[0]*100"
      ],
      "metadata": {
        "colab": {
          "base_uri": "https://localhost:8080/"
        },
        "id": "PlgGkOAPhmCZ",
        "outputId": "908484e6-dbc6-4a1d-8a2d-69ac65db1b33"
      },
      "execution_count": 59,
      "outputs": [
        {
          "output_type": "execute_result",
          "data": {
            "text/plain": [
              "2    44.37299\n",
              "0    42.44373\n",
              "1    13.18328\n",
              "Name: Cluster, dtype: float64"
            ]
          },
          "metadata": {},
          "execution_count": 59
        }
      ]
    },
    {
      "cell_type": "code",
      "source": [
        "# Membuat visualisasi plot prosentasi cluster\n",
        "labels = ['Stunting', 'Overweight', 'Normal']\n",
        "values = df['Cluster'].value_counts().values\n",
        "\n",
        "plt.pie(values, labels=labels, autopct='%1.0f%%')\n",
        "plt.title('Prosentase Cluster Stunting')\n",
        "plt.show()"
      ],
      "metadata": {
        "colab": {
          "base_uri": "https://localhost:8080/",
          "height": 428
        },
        "id": "wI2NmqKMiJ10",
        "outputId": "6ec3a01f-4db6-4722-f811-06ed652cef1d"
      },
      "execution_count": 58,
      "outputs": [
        {
          "output_type": "display_data",
          "data": {
            "text/plain": [
              "<Figure size 640x480 with 1 Axes>"
            ],
            "image/png": "[encoded data removed]"
          },
          "metadata": {}
        }
      ]
    },
    {
      "cell_type": "code",
      "source": [
        "# Inisialisasi data and target\n",
        "target = df['Cluster']\n",
        "features = df.drop(['Cluster'], axis = 1)"
      ],
      "metadata": {
        "id": "2Rr5UKJnsYDS"
      },
      "execution_count": 80,
      "outputs": []
    },
    {
      "cell_type": "code",
      "source": [
        "# Membagi data menjadi training set and testing set\n",
        "X_train, X_test, y_train, y_test = train_test_split(features, target, test_size = 0.2, random_state = 0)"
      ],
      "metadata": {
        "id": "3nkkudXBjjrT"
      },
      "execution_count": 81,
      "outputs": []
    },
    {
      "cell_type": "markdown",
      "source": [
        "Untuk Penggunaan Model Machine Learning\n",
        "\n",
        "*   Support Vector Machine\n",
        "*   Random Forest\n",
        "*   MultinomialNB\n",
        "\n",
        "\n"
      ],
      "metadata": {
        "id": "y7EDnBs1jqNU"
      }
    },
    {
      "cell_type": "code",
      "source": [
        "# Train dan evaluasi model\n",
        "def fit_eval_model(model, train_features, y_train, test_features, y_test):\n",
        "    \n",
        "    \"\"\"\n",
        "    Function: train and evaluate a machine learning classifier.\n",
        "    Args:\n",
        "      model: machine learning classifier\n",
        "      train_features: train data extracted features\n",
        "      y_train: train data lables\n",
        "      test_features: train data extracted features\n",
        "      y_test: train data lables\n",
        "    Return:\n",
        "      results(dictionary): a dictionary of classification report\n",
        "    \"\"\"\n",
        "    results = {}\n",
        "    \n",
        "    # Train model\n",
        "    model.fit(train_features, y_train)\n",
        "    \n",
        "    # Test model\n",
        "    train_predicted = model.predict(train_features)\n",
        "    test_predicted = model.predict(test_features)\n",
        "    \n",
        "     # Classification report and Confusion Matrix\n",
        "    results['classification_report'] = classification_report(y_test, test_predicted)\n",
        "    results['confusion_matrix'] = confusion_matrix(y_test, test_predicted)\n",
        "        \n",
        "    return results"
      ],
      "metadata": {
        "id": "PYDMqqXLj-oE"
      },
      "execution_count": 82,
      "outputs": []
    },
    {
      "cell_type": "code",
      "source": [
        "# Inisialisasi models\n",
        "sv = SVC(random_state = 1)\n",
        "rf = RandomForestClassifier(random_state = 1)\n",
        "mnb = MultinomialNB()\n",
        "\n",
        "\n",
        "# evaluasi models\n",
        "results = {}\n",
        "for cls in [sv, rf, mnb]:\n",
        "    cls_name = cls.__class__.__name__\n",
        "    results[cls_name] = {}\n",
        "    results[cls_name] = fit_eval_model(cls, X_train, y_train, X_test, y_test)\n",
        "    "
      ],
      "metadata": {
        "id": "G9OzIScakDKK"
      },
      "execution_count": 83,
      "outputs": []
    },
    {
      "cell_type": "code",
      "source": [
        "# Melihat hasil classifiers \n",
        "for result in results:\n",
        "    print (result)\n",
        "    print()\n",
        "    for i in results[result]:\n",
        "        print (i, ':')\n",
        "        print(results[result][i])\n",
        "        print()\n",
        "    print ('-----')\n",
        "    print()"
      ],
      "metadata": {
        "colab": {
          "base_uri": "https://localhost:8080/"
        },
        "id": "qDZx1K19kFOj",
        "outputId": "bf8fbc82-92a2-4e68-e83a-e74ea15d8715"
      },
      "execution_count": 67,
      "outputs": [
        {
          "output_type": "stream",
          "name": "stdout",
          "text": [
            "SVC\n",
            "\n",
            "classification_report :\n",
            "              precision    recall  f1-score   support\n",
            "\n",
            "           0       0.91      1.00      0.95        29\n",
            "           1       1.00      0.62      0.77         8\n",
            "           2       1.00      1.00      1.00        26\n",
            "\n",
            "    accuracy                           0.95        63\n",
            "   macro avg       0.97      0.88      0.91        63\n",
            "weighted avg       0.96      0.95      0.95        63\n",
            "\n",
            "\n",
            "confusion_matrix :\n",
            "[[29  0  0]\n",
            " [ 3  5  0]\n",
            " [ 0  0 26]]\n",
            "\n",
            "-----\n",
            "\n",
            "RandomForestClassifier\n",
            "\n",
            "classification_report :\n",
            "              precision    recall  f1-score   support\n",
            "\n",
            "           0       0.97      1.00      0.98        29\n",
            "           1       1.00      1.00      1.00         8\n",
            "           2       1.00      0.96      0.98        26\n",
            "\n",
            "    accuracy                           0.98        63\n",
            "   macro avg       0.99      0.99      0.99        63\n",
            "weighted avg       0.98      0.98      0.98        63\n",
            "\n",
            "\n",
            "confusion_matrix :\n",
            "[[29  0  0]\n",
            " [ 0  8  0]\n",
            " [ 1  0 25]]\n",
            "\n",
            "-----\n",
            "\n",
            "MultinomialNB\n",
            "\n",
            "classification_report :\n",
            "              precision    recall  f1-score   support\n",
            "\n",
            "           0       0.81      0.90      0.85        29\n",
            "           1       1.00      0.75      0.86         8\n",
            "           2       0.88      0.85      0.86        26\n",
            "\n",
            "    accuracy                           0.86        63\n",
            "   macro avg       0.90      0.83      0.86        63\n",
            "weighted avg       0.86      0.86      0.86        63\n",
            "\n",
            "\n",
            "confusion_matrix :\n",
            "[[26  0  3]\n",
            " [ 2  6  0]\n",
            " [ 4  0 22]]\n",
            "\n",
            "-----\n",
            "\n"
          ]
        }
      ]
    },
    {
      "cell_type": "markdown",
      "source": [
        "#**6.   Testing**\n",
        "\n",
        "---"
      ],
      "metadata": {
        "id": "848v3TFynTQC"
      }
    },
    {
      "cell_type": "code",
      "source": [
        "#Melakukan testing pada model\n",
        "\n",
        "#menginputkan paramter dengan urutan column pada dataset variabel x\n",
        "mysample = np.array([2.8,\t48.0,\t1.0,\t9.0,\t73.5,\t0,\t1,\t0]).reshape(1,-1)\n",
        "\n",
        "#melakukan prediksi \n",
        "predicted = rf.predict(mysample)\n",
        "score = rf.predict_proba(mysample)\n",
        "\n",
        "if predicted == 0 :\n",
        "    result = 'Overweight'\n",
        "    accuracy = str(score[0][1]*100)\n",
        "elif predicted == 1 :\n",
        "    result = 'Normal'\n",
        "    accuracy = str(score[0][1]*100)\n",
        "else:\n",
        "    result = 'Stunting'\n",
        "    accuracy = str(score[0][0]*100)\n",
        "    \n",
        "print('{0:.5}'.format(accuracy)+'%', 'kemungkinan anda', result,)"
      ],
      "metadata": {
        "colab": {
          "base_uri": "https://localhost:8080/"
        },
        "id": "9nQ_qDvnoUol",
        "outputId": "eb238299-b40b-411b-9b41-8eaec8052124"
      },
      "execution_count": 88,
      "outputs": [
        {
          "output_type": "stream",
          "name": "stdout",
          "text": [
            "94.0% kemungkinan anda Normal\n"
          ]
        },
        {
          "output_type": "stream",
          "name": "stderr",
          "text": [
            "/usr/local/lib/python3.10/dist-packages/sklearn/base.py:439: UserWarning: X does not have valid feature names, but RandomForestClassifier was fitted with feature names\n",
            "  warnings.warn(\n",
            "/usr/local/lib/python3.10/dist-packages/sklearn/base.py:439: UserWarning: X does not have valid feature names, but RandomForestClassifier was fitted with feature names\n",
            "  warnings.warn(\n"
          ]
        }
      ]
    },
    {
      "cell_type": "code",
      "source": [],
      "metadata": {
        "id": "T2IhkUXKuQxX"
      },
      "execution_count": null,
      "outputs": []
    }
  ]
}